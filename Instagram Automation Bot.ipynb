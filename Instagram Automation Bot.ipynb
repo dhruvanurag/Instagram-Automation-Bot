{
 "cells": [
  {
   "cell_type": "code",
   "execution_count": null,
   "metadata": {},
   "outputs": [],
   "source": [
    "from selenium import webdriver\n",
    "from time import sleep\n",
    "\n",
    "\n",
    "class InstaBot:\n",
    "    def __init__(self, username, password):\n",
    "        self.driver = webdriver.Chrome(r'#Path to chromedriver')\n",
    "        self.username = username\n",
    "        self.driver.get(\"https://instagram.com\")\n",
    "        sleep(2)\n",
    "        self.driver.find_element_by_xpath(\"//input[@name=\\\"username\\\"]\")\\\n",
    "            .send_keys(username)\n",
    "        self.driver.find_element_by_xpath(\"//input[@name=\\\"password\\\"]\")\\\n",
    "            .send_keys(password)\n",
    "        self.driver.find_element_by_xpath('//button[@type=\"submit\"]')\\\n",
    "            .click()\n",
    "        sleep(4)\n",
    "        self.driver.find_element_by_xpath(\"//button[contains(text(), 'Not Now')]\")\\\n",
    "            .click()\n",
    "        self.driver.find_element_by_xpath(\"//button[contains(text(), 'Not Now')]\")\\\n",
    "            .click()\n",
    "        sleep(2)\n",
    "\n",
    "    def get_unfollowers(self):\n",
    "        self.driver.find_element_by_xpath(\"//a[contains(@href,'/{}')]\".format(self.username))\\\n",
    "            .click()\n",
    "        sleep(2)\n",
    "        self.driver.find_element_by_xpath(\"//a[contains(@href,'/following')]\")\\\n",
    "            .click()\n",
    "        following = self._get_names()\n",
    "        self.driver.find_element_by_xpath(\"//a[contains(@href,'/followers')]\")\\\n",
    "            .click()\n",
    "        followers = self.get_names()\n",
    "        not_following_back = [user for user in following if user not in followers]\n",
    "        print(not_following_back)\n",
    "        \n",
    "    def get_names(self):\n",
    "        sleep(4)\n",
    "        scroll_box = self.driver.find_element_by_xpath(\"/html/body/div[4]/div/div/div[2]\")\n",
    "        last_height, height = 0, 1\n",
    "        while last_height != height:\n",
    "            last_height = height\n",
    "            sleep(1)\n",
    "            height = self.driver.execute_script(\"\"\"\n",
    "                arguments[0].scrollTo(0, arguments[0].scrollHeight); \n",
    "                return arguments[0].scrollHeight;\n",
    "                \"\"\", scroll_box)\n",
    "        links = scroll_box.find_elements_by_tag_name('a')\n",
    "        names = [name.text for name in links if name.text != '']\n",
    "        # close button\n",
    "        self.driver.find_element_by_xpath(\"/html/body/div[4]/div/div/div[1]/div/div[2]/button\")\\\n",
    "            .click()\n",
    "        return names\n",
    "\n",
    "automated_bot = InstaBot('#YourUsername', '#YourPassword')\n",
    "automated_bot.get_unfollowers()"
   ]
  },
  {
   "cell_type": "code",
   "execution_count": null,
   "metadata": {},
   "outputs": [],
   "source": []
  },
  {
   "cell_type": "code",
   "execution_count": null,
   "metadata": {},
   "outputs": [],
   "source": []
  }
 ],
 "metadata": {
  "kernelspec": {
   "display_name": "Python 3",
   "language": "python",
   "name": "python3"
  },
  "language_info": {
   "codemirror_mode": {
    "name": "ipython",
    "version": 3
   },
   "file_extension": ".py",
   "mimetype": "text/x-python",
   "name": "python",
   "nbconvert_exporter": "python",
   "pygments_lexer": "ipython3",
   "version": "3.7.9"
  }
 },
 "nbformat": 4,
 "nbformat_minor": 4
}
